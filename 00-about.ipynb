{
 "cells": [
  {
   "cell_type": "markdown",
   "id": "biblical-independence",
   "metadata": {},
   "source": [
    "# CIP203 - Maximizing GPU usage with MIGs, MPS, and Time-Slicing: \n",
    "## About this workshop\n",
    "\n",
    "Note: the *notebooks* used in this workshop and the corresponding data are [published on GitHub](https://github.com/calculquebec/cq-formation-cip203).\n",
    "\n",
    "### Table of contents\n",
    "1. [Why bother maximizing GPU usage](01-gpu-usage.ipynb)\n",
    "1. [How to waste GPU cycles](02-gpu-cycles.ipynb)\n",
    "1. [CUDA streams ](03-cuda-streams.ipynb)\n",
    "1. [Wasting less with MIG ](04-mig.ipynb)\n",
    "1. [Packing more jobs with MPS ](05-mps.ipynb)\n",
    "1. [TimeSlicing](06-time-slicing.ipynb)"
   ]
  },
  {
   "cell_type": "markdown",
   "id": "79ada3d8-f9b2-4387-9869-d0d119fa487c",
   "metadata": {},
   "source": [
    "### Data format\n",
    "We will use matrix multiplication as the main example.\n",
    "The data contains two matrices A and B, their multiplication is stored in matrix C\n",
    "\n",
    "![](./images/Matrix_multiplication_diagram_2.svg.png)\n",
    "Below is the formula for matrix multiplication:\n",
    "![](./images/matrix_formula.png)"
   ]
  },
  {
   "cell_type": "markdown",
   "id": "3d041adf-f1a7-4598-88b6-68ec4017471d",
   "metadata": {},
   "source": [
    "### Why matrix multiplication operation ?"
   ]
  },
  {
   "cell_type": "markdown",
   "id": "b85f6a00-34f2-45ce-b20b-9c857e49c2a5",
   "metadata": {},
   "source": [
    "It's complex enough to fully saturate the GPU (thus make it very busy). At the same time it's relatively simple as an example for you to understand. We will vary the GPU saturation(the load) by changing the size of the matrices."
   ]
  },
  {
   "cell_type": "markdown",
   "id": "01bbffda-32f5-44e7-8352-864e059cd6fd",
   "metadata": {},
   "source": [
    "### The cluster"
   ]
  },
  {
   "cell_type": "markdown",
   "id": "2a05c525-3c51-4dc2-91d4-c934700c1d8b",
   "metadata": {},
   "source": [
    "We have prepared a virtual cluster built with the help of Magic Castle. It has certain number of compute nodes with MIGs of several flavours (1g.5g and 3g.20gb). Your JupyterLab session automatically gets 1g.5g MIG. However, 3g.20gb MIGs can only be requested via the sbatch job. \n",
    "\n",
    "You will be able to login to the cluster later with your username and password (obtained from the spreadshit)."
   ]
  },
  {
   "cell_type": "markdown",
   "id": "0c3e9d25-df3e-4a94-9fd5-d39dc0dbceb6",
   "metadata": {},
   "source": [
    "### The terminal"
   ]
  },
  {
   "cell_type": "markdown",
   "id": "50587676-e6df-43c4-b12f-03f3eb4b8123",
   "metadata": {},
   "source": [
    "We use the Terminal to edit the exercises and the submission script as well as to launch sbatch jobs on the clusters. The Terminal can be started from within the Launcher tab."
   ]
  },
  {
   "cell_type": "markdown",
   "id": "826bf435-bd90-401f-8a0d-c5f31b7de842",
   "metadata": {},
   "source": [
    "### GPU profiling"
   ]
  },
  {
   "cell_type": "markdown",
   "id": "f24f8ca2-ad0a-4074-8d8c-9c5869b82cc8",
   "metadata": {},
   "source": [
    "In order to observe the concurency of our codes we will be using NVIDIA Nsight Systems for GPU profiling which can be laucnahed from within the Laucnher tab."
   ]
  },
  {
   "cell_type": "markdown",
   "id": "rotary-general",
   "metadata": {},
   "source": [
    "### How to Use Jupyter\n",
    "When a cell is in edit mode:\n",
    "\n",
    "  Shortcut  | Description\n",
    "----------- | -----------\n",
    "Shift+Enter | Run the cell, and go to the next\n",
    "Tab         | Indent code or auto-completion\n",
    "Esc         | Go to command mode\n",
    "\n",
    "When a cell is in command mode:\n",
    "\n",
    "  Shortcut   | Description\n",
    "------------ | -----------\n",
    "Shift+Enter  | Run the cell, and go to the next\n",
    "Double-click | Go to edit mode\n",
    "Enter        | Go to edit mode\n",
    "\n",
    "  Shortcut   | Description\n",
    "------------ | -----------\n",
    "A            | Insert a cell above\n",
    "B            | Insert a cell below\n",
    "C            | Copy the current cell\n",
    "V            | Paste the cell below\n",
    "D D          | Delete the current cell\n",
    "M            | Change to Markdown cell\n",
    "Y            | Change to Code cell\n",
    "\n",
    "To reset all cells:\n",
    "* Go to the top menu, and select Kernel -> Restart & Clear Output"
   ]
  }
 ],
 "metadata": {
  "kernelspec": {
   "display_name": "Python 3.11",
   "language": "python",
   "name": "python3"
  },
  "language_info": {
   "codemirror_mode": {
    "name": "ipython",
    "version": 3
   },
   "file_extension": ".py",
   "mimetype": "text/x-python",
   "name": "python",
   "nbconvert_exporter": "python",
   "pygments_lexer": "ipython3",
   "version": "3.11.5"
  }
 },
 "nbformat": 4,
 "nbformat_minor": 5
}
