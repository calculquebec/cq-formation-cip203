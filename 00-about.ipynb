{
 "cells": [
  {
   "cell_type": "markdown",
   "id": "biblical-independence",
   "metadata": {},
   "source": [
    "# CIP203 - Maximizing GPU usage: choosing between MIGs, MPS, and TimeSlicing: \n",
    "## About this workshop\n",
    "\n",
    "Note: the *notebooks* used in this workshop and the corresponding data are [published on GitHub](https://github.com/calculquebec/cq-intro-python-gpu).\n",
    "\n",
    "### Table of contents\n",
    "1. [Why bother maximizing GPU usage](01-gpu-usage.ipynb)\n",
    "1. [How to waste GPU cycles](02-gpu-cycles.ipynb)\n",
    "1. [CUDA streams ](03-cuda-streams.ipynb)\n",
    "1. [Wasting less with MIG ](04-mig.ipynb)\n",
    "1. [Packing more jobs with MPS ](05-mps.ipynb)\n",
    "1. [Time-Slicing](06-time-slicing.ipynb)"
   ]
  },
  {
   "cell_type": "markdown",
   "id": "79ada3d8-f9b2-4387-9869-d0d119fa487c",
   "metadata": {},
   "source": [
    "### Data format\n",
    "We will use matrix multiplication as the main example.\n",
    "The data contains two matrices A and B, their multiplication is stored in matrix C\n",
    "\n",
    "![](images/Matrix_multiplication_diagram_2.svg.png)\n",
    "Below is the formula for matrix multiplication:\n",
    "![](images/matrix_formula.png)"
   ]
  },
  {
   "cell_type": "markdown",
   "id": "rotary-general",
   "metadata": {},
   "source": [
    "### How to Use Jupyter\n",
    "When a cell is in edit mode:\n",
    "\n",
    "  Shortcut  | Description\n",
    "----------- | -----------\n",
    "Shift+Enter | Run the cell, and go to the next\n",
    "Tab         | Indent code or auto-completion\n",
    "Esc         | Go to command mode\n",
    "\n",
    "When a cell is in command mode:\n",
    "\n",
    "  Shortcut   | Description\n",
    "------------ | -----------\n",
    "Shift+Enter  | Run the cell, and go to the next\n",
    "Double-click | Go to edit mode\n",
    "Enter        | Go to edit mode\n",
    "\n",
    "  Shortcut   | Description\n",
    "------------ | -----------\n",
    "A            | Insert a cell above\n",
    "B            | Insert a cell below\n",
    "C            | Copy the current cell\n",
    "V            | Paste the cell below\n",
    "D D          | Delete the current cell\n",
    "M            | Change to Markdown cell\n",
    "Y            | Change to Code cell\n",
    "\n",
    "To reset all cells:\n",
    "* Go to the top menu, and select Kernel -> Restart & Clear Output"
   ]
  }
 ],
 "metadata": {
  "kernelspec": {
   "display_name": "Python 3.11",
   "language": "python",
   "name": "python3"
  },
  "language_info": {
   "codemirror_mode": {
    "name": "ipython",
    "version": 3
   },
   "file_extension": ".py",
   "mimetype": "text/x-python",
   "name": "python",
   "nbconvert_exporter": "python",
   "pygments_lexer": "ipython3",
   "version": "3.11.5"
  }
 },
 "nbformat": 4,
 "nbformat_minor": 5
}
