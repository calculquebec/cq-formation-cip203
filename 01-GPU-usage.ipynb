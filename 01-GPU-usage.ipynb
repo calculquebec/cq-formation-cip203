{
 "cells": [
  {
   "cell_type": "markdown",
   "id": "95849a26-82dc-4fdf-a9d2-a1eee6b4c1b9",
   "metadata": {},
   "source": [
    "# CIP203 - Maximizing GPU usage with MIGs, MPS, and Time-Slicing: \n",
    "## Why bother maximizing GPU usage\n"
   ]
  },
  {
   "cell_type": "markdown",
   "id": "bea0d9f3-5ac6-4ddb-9a7a-4f4765b69890",
   "metadata": {},
   "source": [
    "**Questions**\n",
    "* Why improving GPU performance is important (aka motivation) ?\n",
    "\n",
    "**Objectives**\n",
    "* Be aware of the GPU usage on the clusters\n",
    "* Understand the problem of GPU under-utilization\n",
    "* Become motivated to further make your code more GPU efficient"
   ]
  },
  {
   "cell_type": "markdown",
   "id": "91afb234-d0cb-456d-a4ab-c6821fb040ef",
   "metadata": {},
   "source": [
    "### Is maximizing GPU usage even a problem ?"
   ]
  },
  {
   "cell_type": "markdown",
   "id": "e6343604-86ab-402c-a7c8-520be1dab624",
   "metadata": {},
   "source": [
    "- It <font color='red'>**WOULD NOT BE**</font> a problem if you ran your jobs on <font color='red'>**YOUR OWN**</font> desktop/laptop/personal HPC envoronment.\n",
    "- The problem comes when you start using shared compute resources (like the Alliance's clusters)\n",
    "- Your not-that-efficient GPU code makes your request more GPU resources\n",
    "- The more GPUs you request, the fewer GPUs are available for other user\n",
    "- The fewer GPUs are available, the less happy we are"
   ]
  },
  {
   "cell_type": "markdown",
   "id": "85d05349-1c65-408d-a67b-a4253c1cd62b",
   "metadata": {},
   "source": [
    "### How do you know whether the GPU efficiency of your code is good or bad ?"
   ]
  },
  {
   "cell_type": "markdown",
   "id": "f82bb9c5-fa15-4518-8004-e8c0f466bf7c",
   "metadata": {},
   "source": [
    "- One way to check that is to profile and/or debug your code. There are several profilers available. One of them is NVIDIA Nsight Systems (good for GPU jobs)\n",
    "- Another way is to use our <font color='red'>**PORTALS**</font> available for many of our clusters at the Alliance. Here are few of them:\n",
    "https://portail.narval.alliancecan.ca<br>\n",
    "https://metrix.rorqual.alliancecan.ca  "
   ]
  },
  {
   "cell_type": "markdown",
   "id": "0bf8e0a0-7b6a-445f-b41d-bb599561983e",
   "metadata": {},
   "source": [
    "### What do you get from using the portals ?"
   ]
  },
  {
   "cell_type": "markdown",
   "id": "91d1f395-903f-4b78-a17e-7df2c064a132",
   "metadata": {},
   "source": [
    "- Current utilization of the cluster including filesystem performance, status of login and data tranfer nodes, etc\n",
    "- User summary\n",
    "- <font color='red'>**Job stats**</font>\n",
    "- Account stats\n",
    "\n",
    "From the Job stats you can view all your jobs (running, pending, canceled, etc). You can get the CPU utilization, GPU utilization, I/O traffic, network bandwidth, filesystems, and more. As for the GPU utilization is concerned, you can get GPU activity, GPU occupancy, GPU memory consumption, GPU power consumption."
   ]
  },
  {
   "cell_type": "markdown",
   "id": "a5413f0b-853d-44c6-a6d2-39e66fd08a55",
   "metadata": {},
   "source": [
    "### How to use the portals ?"
   ]
  },
  {
   "cell_type": "markdown",
   "id": "24ef9f2f-63aa-4c93-865f-4f36a436df02",
   "metadata": {},
   "source": [
    "1. **Login to the portal with your Alliance's credentials and MFA**"
   ]
  },
  {
   "cell_type": "markdown",
   "id": "577ab51e-1e30-433d-b59b-ee3fd6b14c67",
   "metadata": {},
   "source": [
    "<table><tr>\n",
    "<td> <img src=\"./images/portal_job_stat.png\" alt=\"Drawing\" style=\"width: 350px;\"/> </td>\n",
    "<td> <img src=\"./images/portal-your-jobs.png\" alt=\"Drawing\" style=\"width: 350px;\"/> </td>\n",
    "</tr></table>"
   ]
  },
  {
   "cell_type": "markdown",
   "id": "72c2152b-70ae-40de-881c-719f7e446597",
   "metadata": {},
   "source": [
    "2. **Click <font color='red'>**Job stats**</font>**\n",
    "3. You will see the list of your jobs. Choose the jobs of your interest."
   ]
  },
  {
   "cell_type": "markdown",
   "id": "fc341d9d-4cf8-49d9-acf1-b4896c7a4fb2",
   "metadata": {},
   "source": [
    "<table><tr>\n",
    "<td> <img src=\"./images/portal-resources.png\" alt=\"Drawing\" style=\"width: 350px;\"/> </td>\n",
    "<td> <img src=\"./images/portal-gpu-utilization.png\" alt=\"Drawing\" style=\"width: 350px;\"/> </td>\n",
    "</tr></table>"
   ]
  },
  {
   "cell_type": "markdown",
   "id": "51531c80-d9a4-4d43-bf62-f22f274c028f",
   "metadata": {},
   "source": [
    "### Do all jobs really need GPUs ?"
   ]
  },
  {
   "cell_type": "markdown",
   "id": "0202205e-9c56-415f-a967-8af8004d99cb",
   "metadata": {},
   "source": [
    "1. **Jobs that trully need GPU resources**"
   ]
  },
  {
   "cell_type": "markdown",
   "id": "0d1f3c34-28a8-4751-aaf4-3a25e5a12267",
   "metadata": {},
   "source": [
    "- Below we plot the GPU utilization as a function of time for the period of several days both allocated and actually used by a user (left figure). The GPU utilization is measured as % of GPU cycles a Streaming Multiprocessor(SM) has at least 1 warp (minimal scheduled unit consisting of 32 threads) assigned. This plot demonstrates that the used GPU utilization is almost as good as the allocated one.\n",
    "\n",
    "- The figure on the right shows GPU utilization as a function of time for a random job of the same user. It demonstrates that multiple GPUs weere used (plotted withdifferent colours), and that the actual utilization is peaking at 80% (which is pretty good)."
   ]
  },
  {
   "cell_type": "markdown",
   "id": "d6f971c7-2e73-4736-b305-6c9ead728496",
   "metadata": {},
   "source": [
    "<table><tr>\n",
    "<td> <img src=\"./images/utilization1.1.png\" alt=\"Drawing\" style=\"width: 350px;\"/> </td>\n",
    "<td> <img src=\"./images/utilization1.2.png\" alt=\"Drawing\" style=\"width: 350px;\"/> </td>\n",
    "</tr></table>"
   ]
  },
  {
   "cell_type": "markdown",
   "id": "c0fb3b8e-5e5f-467f-b98a-8826daaf12af",
   "metadata": {},
   "source": [
    "Decision: <font color='red'>**NO GPU sharing is required !**</font> <br>\n",
    "The user here is welcome to use full body GPUs."
   ]
  },
  {
   "cell_type": "markdown",
   "id": "e2ba8ee7-1535-4920-bc8f-6fd574d3d2a5",
   "metadata": {},
   "source": [
    "2. **Jobs that need only a fraction of a GPU**"
   ]
  },
  {
   "cell_type": "markdown",
   "id": "c17fc4c3-28b4-42ac-aeeb-810791ca092f",
   "metadata": {},
   "source": [
    "- The same GPU utilization metrics is plotted for another user. The figure on the left clearly shows that roughly only 15-20% of GPU cycles were used.\n",
    "- The figure on the right shows the GPU utilization for one of the jobs of that user. As expected,  the GPU is used at the fraction of its capability."
   ]
  },
  {
   "cell_type": "markdown",
   "id": "bfc2ed42-cf59-4e4d-8093-2c5233210bf3",
   "metadata": {},
   "source": [
    "<table><tr>\n",
    "<td> <img src=\"./images/utilization2.1.png\" alt=\"Drawing\" style=\"width: 350px;\"/> </td>\n",
    "<td> <img src=\"./images/utilization2.2.png\" alt=\"Drawing\" style=\"width: 350px;\"/> </td>\n",
    "</tr></table>"
   ]
  },
  {
   "cell_type": "markdown",
   "id": "99c791a5-7913-40ee-bfb5-7a769f50d77b",
   "metadata": {},
   "source": [
    "Decision: <font color='red'>**Some GPU sharing may be needed to save resources !**</font> <br>\n",
    "The user here needs to either improve GPU utilization or use fractional GPUs or share GPUs."
   ]
  },
  {
   "cell_type": "markdown",
   "id": "1b256df5-c0ac-42d1-ab6f-6e3cf215de5e",
   "metadata": {},
   "source": [
    "3. **Jobs that don't need GPUs at all**"
   ]
  },
  {
   "cell_type": "markdown",
   "id": "f2ed4a78-bb7f-4acf-bbbd-200a68e09bbc",
   "metadata": {},
   "source": [
    "- The figure on  the left shows that the GPU utilization collected for the period of several days was almost negligeable. Number of used GPU cycles is very low.\n",
    "- The figure on the right again shows the GPU utilization of a random job of the user. It clearly demonstrates that the GPU is almost idle. "
   ]
  },
  {
   "cell_type": "markdown",
   "id": "7b68dd7d-2c9c-4ce0-a0c5-d52950eb5750",
   "metadata": {},
   "source": [
    "<table><tr>\n",
    "<td> <img src=\"./images/utilization3.1.png\" alt=\"Drawing\" style=\"width: 350px;\"/> </td>\n",
    "<td> <img src=\"./images/utilization3.2.png\" alt=\"Drawing\" style=\"width: 350px;\"/> </td>\n",
    "</tr></table>"
   ]
  },
  {
   "cell_type": "markdown",
   "id": "2198986f-6b30-450d-9f2b-df265fff9cff",
   "metadata": {},
   "source": [
    "Decision: <font color='red'>**GPU sharing is a must !**</font> <br>\n",
    "The user here should either improve GPU efficiency or use GPU sharing or completely switch all calculations to CPU cores."
   ]
  },
  {
   "cell_type": "markdown",
   "id": "0b75e743-5843-4567-a7c9-0b44e4ced0c1",
   "metadata": {},
   "source": [
    "4. **Jobs with scattered GPU utilization**"
   ]
  },
  {
   "cell_type": "markdown",
   "id": "07d95c42-7e01-496a-9f66-9ebd04010027",
   "metadata": {},
   "source": [
    "<table><tr>\n",
    "<td> <img src=\"./images/gpu-usage-scattered.png\" alt=\"Drawing\" style=\"width: 350px;\"/> </td>\n",
    "</tr></table>"
   ]
  },
  {
   "cell_type": "markdown",
   "id": "a75c3d1c-d2bd-4c7a-8367-a1ea042bfb84",
   "metadata": {},
   "source": [
    "Decision: <font color='red'>**GPU sharing is a must !**</font> <br>\n",
    "The user here should probably restructure the code so that the GPUs are not idling."
   ]
  },
  {
   "cell_type": "markdown",
   "id": "fed54303-b9f9-4acc-bd3a-4e358fd58995",
   "metadata": {},
   "source": [
    "### What are the consequences of poor GPU usage"
   ]
  },
  {
   "cell_type": "markdown",
   "id": "dc4095bb-fbf1-4a84-9f41-d0ab438cfe0a",
   "metadata": {},
   "source": [
    "1. Your code is slow making you to run it longer to get the result\n",
    "2. It takes enormous number of GPUs for the users to accompish their tasks\n",
    "3. Number of GPUs is very limited\n",
    "4. The waiting time in the queue becomes long\n",
    "5. Your account is getting over-charged (for the resources you have never used but requested anyway)\n",
    "6. Your job priority goes down (making you unable to submit any jobs)\n",
    "7. Your PI's compute allocations are burned very fast"
   ]
  },
  {
   "cell_type": "markdown",
   "id": "f00992e9-952f-4a4d-971c-579a64513dde",
   "metadata": {},
   "source": [
    "### Why maximize GPU utilization ? "
   ]
  },
  {
   "cell_type": "markdown",
   "id": "5e537dc2-66a8-4dae-8608-64e6d5c70d07",
   "metadata": {},
   "source": [
    "- Either your code will run much faster or you stop wasting GPU cycles\n",
    "- Your job priority will increase (as you use less resources)\n",
    "- Your waiting time will increase as well\n",
    "- Your PI's happy as the allocation is safe\n",
    "- Your jobs won't get terminated due to low GPU utilisation"
   ]
  },
  {
   "cell_type": "markdown",
   "id": "29d77cb7-d432-4fee-b866-fc767ea71f45",
   "metadata": {},
   "source": [
    "## Key Points"
   ]
  },
  {
   "cell_type": "markdown",
   "id": "bf42f9af-8dfa-418a-a3e9-66ac984e59a6",
   "metadata": {},
   "source": [
    "* **What's happening at our clusters**\n",
    "* **Lots of jobs with idle GPUs**\n",
    "* **Often times the GPUs are severely under-utilized**\n",
    "* **Not all jobs even qualify to run on GPUs**"
   ]
  }
 ],
 "metadata": {
  "kernelspec": {
   "display_name": "Python bundle",
   "language": "python",
   "name": "ospython"
  },
  "language_info": {
   "codemirror_mode": {
    "name": "ipython",
    "version": 3
   },
   "file_extension": ".py",
   "mimetype": "text/x-python",
   "name": "python",
   "nbconvert_exporter": "python",
   "pygments_lexer": "ipython3",
   "version": "3.11.5"
  }
 },
 "nbformat": 4,
 "nbformat_minor": 5
}
