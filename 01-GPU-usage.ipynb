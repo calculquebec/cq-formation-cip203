{
 "cells": [
  {
   "cell_type": "markdown",
   "id": "95849a26-82dc-4fdf-a9d2-a1eee6b4c1b9",
   "metadata": {},
   "source": [
    "# CIP203 - Maximizing GPU usage with MIGs, MPS, and Time-Slicing: \n",
    "## Why bother maximizing GPU usage\n"
   ]
  },
  {
   "cell_type": "markdown",
   "id": "bea0d9f3-5ac6-4ddb-9a7a-4f4765b69890",
   "metadata": {},
   "source": [
    "**Questions**\n",
    "* Why improving GPU performance is important (aka motivation) ?\n",
    "\n",
    "**Objectives**\n",
    "* Be aware of the GPU usage on the clusters\n",
    "* Understand the problem of GPU under-utilization\n",
    "* Become motivated to further make your code more GPU efficient"
   ]
  },
  {
   "cell_type": "markdown",
   "id": "85d05349-1c65-408d-a67b-a4253c1cd62b",
   "metadata": {},
   "source": [
    "## The Alliance's clusters and GPU utilization "
   ]
  },
  {
   "cell_type": "markdown",
   "id": "29a39cd2-229e-40b3-bcbc-c73c4bdf04d5",
   "metadata": {},
   "source": [
    "We regularly monitor GPU jobs using our portals. For example, here is the URL for the Narval's portal:\n",
    "https://portail.narval.alliancecan.ca <br>\n",
    "The GPU metrics we collect inlude GPU activity, occupancy, memory, power, etc. Then the GPU utilization is plotted as a function of elapsed time."
   ]
  },
  {
   "cell_type": "markdown",
   "id": "a5413f0b-853d-44c6-a6d2-39e66fd08a55",
   "metadata": {},
   "source": [
    "### In fact anyone can monitor GPU utilization with the use of portals"
   ]
  },
  {
   "cell_type": "markdown",
   "id": "24ef9f2f-63aa-4c93-865f-4f36a436df02",
   "metadata": {},
   "source": [
    "1. Login to the portal with your Alliance's credentials and MFA"
   ]
  },
  {
   "cell_type": "markdown",
   "id": "577ab51e-1e30-433d-b59b-ee3fd6b14c67",
   "metadata": {},
   "source": [
    "<table><tr>\n",
    "<td> <img src=\"./images/portal_job_stat.png\" alt=\"Drawing\" style=\"width: 350px;\"/> </td>\n",
    "</tr></table>"
   ]
  },
  {
   "cell_type": "markdown",
   "id": "72c2152b-70ae-40de-881c-719f7e446597",
   "metadata": {},
   "source": [
    "2. Click <font color='red'>**Job stats**</font>"
   ]
  },
  {
   "cell_type": "markdown",
   "id": "51531c80-d9a4-4d43-bf62-f22f274c028f",
   "metadata": {},
   "source": [
    "### Do all jobs really need GPUs ?"
   ]
  },
  {
   "cell_type": "markdown",
   "id": "0202205e-9c56-415f-a967-8af8004d99cb",
   "metadata": {},
   "source": [
    "1. Jobs that trully need GPU resources"
   ]
  },
  {
   "cell_type": "markdown",
   "id": "d6f971c7-2e73-4736-b305-6c9ead728496",
   "metadata": {},
   "source": [
    "<table><tr>\n",
    "<td> <img src=\"./images/utilization1.1.png\" alt=\"Drawing\" style=\"width: 350px;\"/> </td>\n",
    "<td> <img src=\"./images/utilization1.2.png\" alt=\"Drawing\" style=\"width: 350px;\"/> </td>\n",
    "</tr></table>"
   ]
  },
  {
   "cell_type": "markdown",
   "id": "e2ba8ee7-1535-4920-bc8f-6fd574d3d2a5",
   "metadata": {},
   "source": [
    "2. Jobs that need only a fraction of a GPU"
   ]
  },
  {
   "cell_type": "markdown",
   "id": "bfc2ed42-cf59-4e4d-8093-2c5233210bf3",
   "metadata": {},
   "source": [
    "<table><tr>\n",
    "<td> <img src=\"./images/utilization2.1.png\" alt=\"Drawing\" style=\"width: 350px;\"/> </td>\n",
    "<td> <img src=\"./images/utilization2.2.png\" alt=\"Drawing\" style=\"width: 350px;\"/> </td>\n",
    "</tr></table>"
   ]
  },
  {
   "cell_type": "markdown",
   "id": "1b256df5-c0ac-42d1-ab6f-6e3cf215de5e",
   "metadata": {},
   "source": [
    "3. Jobs that don't need GPUs at all"
   ]
  },
  {
   "cell_type": "markdown",
   "id": "7b68dd7d-2c9c-4ce0-a0c5-d52950eb5750",
   "metadata": {},
   "source": [
    "<table><tr>\n",
    "<td> <img src=\"./images/utilization3.1.png\" alt=\"Drawing\" style=\"width: 350px;\"/> </td>\n",
    "<td> <img src=\"./images/utilization3.2.png\" alt=\"Drawing\" style=\"width: 350px;\"/> </td>\n",
    "</tr></table>"
   ]
  },
  {
   "cell_type": "markdown",
   "id": "0b75e743-5843-4567-a7c9-0b44e4ced0c1",
   "metadata": {},
   "source": [
    "4. Jobs with scattered GPU utilization"
   ]
  },
  {
   "cell_type": "markdown",
   "id": "07d95c42-7e01-496a-9f66-9ebd04010027",
   "metadata": {},
   "source": [
    "<table><tr>\n",
    "<td> <img src=\"./images/gpu-usage-scattered.png\" alt=\"Drawing\" style=\"width: 350px;\"/> </td>\n",
    "</tr></table>"
   ]
  },
  {
   "cell_type": "markdown",
   "id": "fed54303-b9f9-4acc-bd3a-4e358fd58995",
   "metadata": {},
   "source": [
    "### What are the consequences of poor GPU usage"
   ]
  },
  {
   "cell_type": "markdown",
   "id": "dc4095bb-fbf1-4a84-9f41-d0ab438cfe0a",
   "metadata": {},
   "source": [
    "1. Your code is slow making you to run it longer to get the result\n",
    "2. It takes enormous number of GPUs for the users to accompish their tasks\n",
    "3. Number of GPUs is very limited\n",
    "4. The waiting time in the queue becomes long\n",
    "5. Your account is getting over-charged (for the resources you have never used but requested anyway)\n",
    "6. Your job priority goes down (making you unable to submit any jobs)\n",
    "7. Your PI's compute allocations are burned very fast"
   ]
  },
  {
   "cell_type": "markdown",
   "id": "f00992e9-952f-4a4d-971c-579a64513dde",
   "metadata": {},
   "source": [
    "### Why maximize GPU utilization ? "
   ]
  },
  {
   "cell_type": "markdown",
   "id": "5e537dc2-66a8-4dae-8608-64e6d5c70d07",
   "metadata": {},
   "source": [
    "- Either your code will run much faster or you stop wasting GPU cycles\n",
    "- Your job priority will increase (as you use less resources)\n",
    "- Your waiting time will increase as well\n",
    "- Your PI's happy as the allocation is safe\n",
    "- Your jobs won't get terminated due to low GPU utilisation"
   ]
  },
  {
   "cell_type": "markdown",
   "id": "29d77cb7-d432-4fee-b866-fc767ea71f45",
   "metadata": {},
   "source": [
    "## Key Points"
   ]
  },
  {
   "cell_type": "markdown",
   "id": "bf42f9af-8dfa-418a-a3e9-66ac984e59a6",
   "metadata": {},
   "source": [
    "* **What's happening at our clusters**\n",
    "* **Lots of jobs with idle GPUs**\n",
    "* **Often times the GPUs are severely under-utilized**\n",
    "* **Not all jobs even qualify to run on GPUs**"
   ]
  }
 ],
 "metadata": {
  "kernelspec": {
   "display_name": "Python bundle",
   "language": "python",
   "name": "ospython"
  },
  "language_info": {
   "codemirror_mode": {
    "name": "ipython",
    "version": 3
   },
   "file_extension": ".py",
   "mimetype": "text/x-python",
   "name": "python",
   "nbconvert_exporter": "python",
   "pygments_lexer": "ipython3",
   "version": "3.11.5"
  }
 },
 "nbformat": 4,
 "nbformat_minor": 5
}
